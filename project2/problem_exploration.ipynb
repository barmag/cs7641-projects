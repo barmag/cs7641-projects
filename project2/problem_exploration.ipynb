{
 "cells": [
  {
   "cell_type": "markdown",
   "id": "5d11530a",
   "metadata": {},
   "source": [
    "# Problem analyis\n",
    "## Flip Flop"
   ]
  },
  {
   "cell_type": "code",
   "execution_count": 188,
   "id": "a5aa911b",
   "metadata": {},
   "outputs": [],
   "source": [
    "import mlrose_hiive\n",
    "import numpy as np\n",
    "import pandas as pd\n",
    "import matplotlib.pyplot as plt\n",
    "import networkx as nx"
   ]
  },
  {
   "cell_type": "code",
   "execution_count": 7,
   "id": "a430c756",
   "metadata": {},
   "outputs": [
    {
     "data": {
      "text/plain": [
       "0"
      ]
     },
     "execution_count": 7,
     "metadata": {},
     "output_type": "execute_result"
    }
   ],
   "source": [
    "opt = mlrose_hiive.FlipFlop()\n",
    "opt.evaluate([0,0,0,0])"
   ]
  },
  {
   "cell_type": "code",
   "execution_count": 14,
   "id": "74557147",
   "metadata": {},
   "outputs": [],
   "source": [
    "values = np.array([[0,0,0,0],\n",
    "                 [0,0,0,1],\n",
    "                 [0,0,1,0],\n",
    "                 [0,0,1,1],\n",
    "                 [0,1,0,0],\n",
    "                 [0,1,0,1],\n",
    "                 [0,1,1,0],\n",
    "                 [0,1,1,1],\n",
    "                 [1,0,0,0],\n",
    "                 [1,0,0,1],\n",
    "                 [1,0,1,0],\n",
    "                 [1,0,1,1],\n",
    "                 [1,1,0,0],\n",
    "                 [1,1,0,1],\n",
    "                 [1,1,1,0],\n",
    "                 [1,1,1,1]])\n",
    "fitness_values = opt.evaluate_many(values)"
   ]
  },
  {
   "cell_type": "code",
   "execution_count": 16,
   "id": "f239779d",
   "metadata": {},
   "outputs": [
    {
     "data": {
      "text/plain": [
       "[<matplotlib.lines.Line2D at 0x1e40f3562b0>]"
      ]
     },
     "execution_count": 16,
     "metadata": {},
     "output_type": "execute_result"
    },
    {
     "data": {
      "image/png": "[encoded data removed]",
      "text/plain": [
       "<Figure size 432x288 with 1 Axes>"
      ]
     },
     "metadata": {
      "needs_background": "light"
     },
     "output_type": "display_data"
    }
   ],
   "source": [
    "plt.plot(range(0, 16), fitness_values)"
   ]
  },
  {
   "cell_type": "code",
   "execution_count": 47,
   "id": "608e4353",
   "metadata": {},
   "outputs": [
    {
     "name": "stdout",
     "output_type": "stream",
     "text": [
      "(4,) (4,)\n",
      "None\n"
     ]
    }
   ],
   "source": [
    "max_weight_per_item = 25\n",
    "number_of_items_types = 4\n",
    "max_value_per_item = 10\n",
    "weights = 1 + np.random.randint(max_weight_per_item, size=number_of_items_types)\n",
    "values = 1 + np.random.randint(max_value_per_item, size=number_of_items_types)\n",
    "k_opt = mlrose_hiive.KnapsackOpt(length=4, weights=weights, values=values)\n",
    "print(weights.shape, values.shape)\n",
    "print(k_opt.find_neighbors())"
   ]
  },
  {
   "cell_type": "code",
   "execution_count": 48,
   "id": "398556a5",
   "metadata": {},
   "outputs": [
    {
     "data": {
      "text/plain": [
       "array([0, 0, 1, 0])"
      ]
     },
     "execution_count": 48,
     "metadata": {},
     "output_type": "execute_result"
    }
   ],
   "source": [
    "k_opt.get_state()\n",
    "k_opt.random_neighbor()"
   ]
  },
  {
   "cell_type": "code",
   "execution_count": 54,
   "id": "f4859977",
   "metadata": {},
   "outputs": [
    {
     "name": "stdout",
     "output_type": "stream",
     "text": [
      "[0.0, 0.0, 1.0, 0.0, 8.0, 0.0, 0.0, 0.0, 6.0, 0.0, 7.0, 0.0, 0.0, 0.0, 0.0, 0.0]\n"
     ]
    }
   ],
   "source": [
    "values = np.array([[0,0,0,0],\n",
    "                 [0,0,0,1],\n",
    "                 [0,0,1,0],\n",
    "                 [0,0,1,1],\n",
    "                 [0,1,0,0],\n",
    "                 [0,1,0,1],\n",
    "                 [0,1,1,0],\n",
    "                 [0,1,1,1],\n",
    "                 [1,0,0,0],\n",
    "                 [1,0,0,1],\n",
    "                 [1,0,1,0],\n",
    "                 [1,0,1,1],\n",
    "                 [1,1,0,0],\n",
    "                 [1,1,0,1],\n",
    "                 [1,1,1,0],\n",
    "                 [1,1,1,1]])\n",
    "k_fitness_values = []\n",
    "for i in range(0, 16):\n",
    "    k_fitness_values.append(k_opt.eval_fitness(values[i]))\n",
    "# fitness_values = k_opt.evaluate_many(values)\n",
    "print(k_fitness_values)"
   ]
  },
  {
   "cell_type": "code",
   "execution_count": 55,
   "id": "ac3ac4d9",
   "metadata": {},
   "outputs": [
    {
     "data": {
      "text/plain": [
       "[<matplotlib.lines.Line2D at 0x1e40f49a550>]"
      ]
     },
     "execution_count": 55,
     "metadata": {},
     "output_type": "execute_result"
    },
    {
     "data": {
      "image/png": "[encoded data removed]",
      "text/plain": [
       "<Figure size 432x288 with 1 Axes>"
      ]
     },
     "metadata": {
      "needs_background": "light"
     },
     "output_type": "display_data"
    }
   ],
   "source": [
    "plt.plot(range(0, 16), k_fitness_values)"
   ]
  },
  {
   "cell_type": "code",
   "execution_count": 198,
   "id": "9ed2eaf9",
   "metadata": {},
   "outputs": [],
   "source": [
    "problem = mlrose_hiive.MaxKColorGenerator().generate(45, number_of_nodes=4, max_connections_per_node=2)\n"
   ]
  },
  {
   "cell_type": "code",
   "execution_count": 204,
   "id": "f755c3de",
   "metadata": {},
   "outputs": [
    {
     "data": {
      "text/plain": [
       "array([1, 2, 0, 1])"
      ]
     },
     "execution_count": 204,
     "metadata": {},
     "output_type": "execute_result"
    }
   ],
   "source": [
    "problem.random_neighbor()"
   ]
  },
  {
   "cell_type": "code",
   "execution_count": 199,
   "id": "b484be64",
   "metadata": {},
   "outputs": [
    {
     "data": {
      "image/png": "[encoded data removed]",
      "text/plain": [
       "<Figure size 432x288 with 1 Axes>"
      ]
     },
     "metadata": {},
     "output_type": "display_data"
    }
   ],
   "source": [
    "nx.draw(problem.source_graph)"
   ]
  },
  {
   "cell_type": "code",
   "execution_count": 205,
   "id": "b2058cb4",
   "metadata": {},
   "outputs": [
    {
     "name": "stdout",
     "output_type": "stream",
     "text": [
      "[-5.0, -3.0, -2.0, -2.0, -3.0, -1.0, -2.0, -2.0, -2.0, -2.0, -1.0, -3.0, -2.0, -2.0, -3.0, -5.0]\n"
     ]
    }
   ],
   "source": [
    "m_fitness_values = []\n",
    "for i in range(0, 16):\n",
    "    m_fitness_values.append(problem.eval_fitness(values[i]))\n",
    "# fitness_values = k_opt.evaluate_many(values)\n",
    "print(m_fitness_values)"
   ]
  },
  {
   "cell_type": "code",
   "execution_count": 206,
   "id": "2b742e9f",
   "metadata": {},
   "outputs": [
    {
     "data": {
      "text/plain": [
       "[<matplotlib.lines.Line2D at 0x1e40e717bb0>]"
      ]
     },
     "execution_count": 206,
     "metadata": {},
     "output_type": "execute_result"
    },
    {
     "data": {
      "image/png": "[encoded data removed]",
      "text/plain": [
       "<Figure size 432x288 with 1 Axes>"
      ]
     },
     "metadata": {
      "needs_background": "light"
     },
     "output_type": "display_data"
    }
   ],
   "source": [
    "plt.plot(range(0, 16), m_fitness_values)"
   ]
  },
  {
   "cell_type": "code",
   "execution_count": 221,
   "id": "5544770b",
   "metadata": {},
   "outputs": [
    {
     "name": "stdout",
     "output_type": "stream",
     "text": [
      "0 (0, 0, 0, 0)\n",
      "1 (0, 0, 0, 1)\n",
      "2 (0, 0, 0, 2)\n",
      "3 (0, 0, 0, 3)\n",
      "4 (0, 0, 1, 1)\n",
      "5 (0, 0, 1, 2)\n",
      "6 (0, 0, 1, 3)\n",
      "7 (0, 0, 2, 2)\n",
      "8 (0, 0, 2, 3)\n",
      "9 (0, 0, 3, 3)\n",
      "10 (0, 1, 1, 1)\n",
      "11 (0, 1, 1, 2)\n",
      "12 (0, 1, 1, 3)\n",
      "13 (0, 1, 2, 2)\n",
      "14 (0, 1, 2, 3)\n",
      "15 (0, 1, 3, 3)\n",
      "16 (0, 2, 2, 2)\n",
      "17 (0, 2, 2, 3)\n",
      "18 (0, 2, 3, 3)\n",
      "19 (0, 3, 3, 3)\n",
      "20 (1, 1, 1, 1)\n",
      "21 (1, 1, 1, 2)\n",
      "22 (1, 1, 1, 3)\n",
      "23 (1, 1, 2, 2)\n",
      "24 (1, 1, 2, 3)\n",
      "25 (1, 1, 3, 3)\n",
      "26 (1, 2, 2, 2)\n",
      "27 (1, 2, 2, 3)\n",
      "28 (1, 2, 3, 3)\n",
      "29 (1, 3, 3, 3)\n",
      "30 (2, 2, 2, 2)\n",
      "31 (2, 2, 2, 3)\n",
      "32 (2, 2, 3, 3)\n",
      "33 (2, 3, 3, 3)\n",
      "34 (3, 3, 3, 3)\n"
     ]
    }
   ],
   "source": [
    "import itertools\n",
    "counter = 0\n",
    "mk_values = []\n",
    "for x in itertools.combinations_with_replacement(range(4),4):\n",
    "    print(counter, x)\n",
    "    mk_values.append(list(x))\n",
    "    counter += 1"
   ]
  },
  {
   "cell_type": "code",
   "execution_count": 222,
   "id": "81a5ad70",
   "metadata": {},
   "outputs": [
    {
     "name": "stdout",
     "output_type": "stream",
     "text": [
      "[-5.0, -3.0, -3.0, -3.0, -2.0, -1.0, -1.0, -2.0, -1.0, -2.0, -2.0, -1.0, -1.0, -1.0, -0.0, -1.0, -2.0, -1.0, -1.0, -2.0, -5.0, -3.0, -3.0, -2.0, -1.0, -2.0, -2.0, -1.0, -1.0, -2.0, -5.0, -3.0, -2.0, -2.0, -5.0]\n"
     ]
    }
   ],
   "source": [
    "mk_fitness_values = []\n",
    "for i in range(0, 35):\n",
    "    mk_fitness_values.append(problem.eval_fitness(mk_values[i]))\n",
    "# fitness_values = k_opt.evaluate_many(values)\n",
    "print(mk_fitness_values)"
   ]
  },
  {
   "cell_type": "code",
   "execution_count": 223,
   "id": "9cfe8ecd",
   "metadata": {},
   "outputs": [
    {
     "data": {
      "text/plain": [
       "[<matplotlib.lines.Line2D at 0x1e40fd88e80>]"
      ]
     },
     "execution_count": 223,
     "metadata": {},
     "output_type": "execute_result"
    },
    {
     "data": {
      "image/png": "[encoded data removed]",
      "text/plain": [
       "<Figure size 432x288 with 1 Axes>"
      ]
     },
     "metadata": {
      "needs_background": "light"
     },
     "output_type": "display_data"
    }
   ],
   "source": [
    "plt.plot(range(0, 35), mk_fitness_values)"
   ]
  }
 ],
 "metadata": {
  "kernelspec": {
   "display_name": "Python 3 (ipykernel)",
   "language": "python",
   "name": "python3"
  },
  "language_info": {
   "codemirror_mode": {
    "name": "ipython",
    "version": 3
   },
   "file_extension": ".py",
   "mimetype": "text/x-python",
   "name": "python",
   "nbconvert_exporter": "python",
   "pygments_lexer": "ipython3",
   "version": "3.8.5"
  }
 },
 "nbformat": 4,
 "nbformat_minor": 5
}
