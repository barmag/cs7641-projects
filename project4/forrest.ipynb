{
 "cells": [
  {
   "cell_type": "code",
   "execution_count": 3,
   "id": "3493fbfb",
   "metadata": {},
   "outputs": [],
   "source": [
    "import gym\n",
    "from gym.envs.toy_text import frozen_lake\n",
    "import matplotlib.pyplot as plt\n",
    "import seaborn as sns\n",
    "import numpy as np\n",
    "from hiive.mdptoolbox.mdp import ValueIteration, PolicyIteration, QLearning\n",
    "from hiive.mdptoolbox.example import forest\n",
    "# from mdptoolbox_mod.mdp import QLearning\n",
    "import copy"
   ]
  },
  {
   "cell_type": "code",
   "execution_count": 6,
   "id": "a867e994",
   "metadata": {},
   "outputs": [
    {
     "data": {
      "text/plain": [
       "(array([[[0.1, 0.9, 0. , 0. , 0. , 0. , 0. , 0. , 0. , 0. ],\n",
       "         [0.1, 0. , 0.9, 0. , 0. , 0. , 0. , 0. , 0. , 0. ],\n",
       "         [0.1, 0. , 0. , 0.9, 0. , 0. , 0. , 0. , 0. , 0. ],\n",
       "         [0.1, 0. , 0. , 0. , 0.9, 0. , 0. , 0. , 0. , 0. ],\n",
       "         [0.1, 0. , 0. , 0. , 0. , 0.9, 0. , 0. , 0. , 0. ],\n",
       "         [0.1, 0. , 0. , 0. , 0. , 0. , 0.9, 0. , 0. , 0. ],\n",
       "         [0.1, 0. , 0. , 0. , 0. , 0. , 0. , 0.9, 0. , 0. ],\n",
       "         [0.1, 0. , 0. , 0. , 0. , 0. , 0. , 0. , 0.9, 0. ],\n",
       "         [0.1, 0. , 0. , 0. , 0. , 0. , 0. , 0. , 0. , 0.9],\n",
       "         [0.1, 0. , 0. , 0. , 0. , 0. , 0. , 0. , 0. , 0.9]],\n",
       " \n",
       "        [[1. , 0. , 0. , 0. , 0. , 0. , 0. , 0. , 0. , 0. ],\n",
       "         [1. , 0. , 0. , 0. , 0. , 0. , 0. , 0. , 0. , 0. ],\n",
       "         [1. , 0. , 0. , 0. , 0. , 0. , 0. , 0. , 0. , 0. ],\n",
       "         [1. , 0. , 0. , 0. , 0. , 0. , 0. , 0. , 0. , 0. ],\n",
       "         [1. , 0. , 0. , 0. , 0. , 0. , 0. , 0. , 0. , 0. ],\n",
       "         [1. , 0. , 0. , 0. , 0. , 0. , 0. , 0. , 0. , 0. ],\n",
       "         [1. , 0. , 0. , 0. , 0. , 0. , 0. , 0. , 0. , 0. ],\n",
       "         [1. , 0. , 0. , 0. , 0. , 0. , 0. , 0. , 0. , 0. ],\n",
       "         [1. , 0. , 0. , 0. , 0. , 0. , 0. , 0. , 0. , 0. ],\n",
       "         [1. , 0. , 0. , 0. , 0. , 0. , 0. , 0. , 0. , 0. ]]]),\n",
       " array([[0., 0.],\n",
       "        [0., 1.],\n",
       "        [0., 1.],\n",
       "        [0., 1.],\n",
       "        [0., 1.],\n",
       "        [0., 1.],\n",
       "        [0., 1.],\n",
       "        [0., 1.],\n",
       "        [0., 1.],\n",
       "        [4., 2.]]))"
      ]
     },
     "execution_count": 6,
     "metadata": {},
     "output_type": "execute_result"
    }
   ],
   "source": [
    "problem = forest(S=10)\n",
    "problem"
   ]
  }
 ],
 "metadata": {
  "kernelspec": {
   "display_name": "Python 3 (ipykernel)",
   "language": "python",
   "name": "python3"
  },
  "language_info": {
   "codemirror_mode": {
    "name": "ipython",
    "version": 3
   },
   "file_extension": ".py",
   "mimetype": "text/x-python",
   "name": "python",
   "nbconvert_exporter": "python",
   "pygments_lexer": "ipython3",
   "version": "3.8.5"
  }
 },
 "nbformat": 4,
 "nbformat_minor": 5
}
