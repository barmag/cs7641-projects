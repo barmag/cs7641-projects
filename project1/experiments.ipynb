{
 "cells": [
  {
   "cell_type": "code",
   "execution_count": 203,
   "id": "stopped-blood",
   "metadata": {},
   "outputs": [],
   "source": [
    "import numpy as np\n",
    "import pandas as pd\n",
    "import matplotlib.pyplot as plt\n",
    "from sklearn.model_selection import train_test_split\n",
    "from sklearn.tree import DecisionTreeClassifier\n",
    "from sklearn.model_selection import cross_val_score\n",
    "\n",
    "from sklearn.metrics import accuracy_score, precision_score\n",
    "from sklearn.model_selection import learning_curve, validation_curve"
   ]
  },
  {
   "cell_type": "code",
   "execution_count": 2,
   "id": "moderate-giving",
   "metadata": {},
   "outputs": [],
   "source": [
    "def load_tic_toe_data(data_path='./data/tic-tac-toe/tic-tac-toe.data'):\n",
    "    return pd.read_csv(data_path)"
   ]
  },
  {
   "cell_type": "markdown",
   "id": "fundamental-heart",
   "metadata": {},
   "source": [
    "Experiment with decsion trees"
   ]
  },
  {
   "cell_type": "code",
   "execution_count": 3,
   "id": "previous-rouge",
   "metadata": {},
   "outputs": [],
   "source": [
    "tic_tac_toe_data = load_tic_toe_data()"
   ]
  },
  {
   "cell_type": "code",
   "execution_count": 140,
   "id": "copyrighted-midwest",
   "metadata": {},
   "outputs": [
    {
     "data": {
      "text/html": [
       "<div>\n",
       "<style scoped>\n",
       "    .dataframe tbody tr th:only-of-type {\n",
       "        vertical-align: middle;\n",
       "    }\n",
       "\n",
       "    .dataframe tbody tr th {\n",
       "        vertical-align: top;\n",
       "    }\n",
       "\n",
       "    .dataframe thead th {\n",
       "        text-align: right;\n",
       "    }\n",
       "</style>\n",
       "<table border=\"1\" class=\"dataframe\">\n",
       "  <thead>\n",
       "    <tr style=\"text-align: right;\">\n",
       "      <th></th>\n",
       "      <th>x</th>\n",
       "      <th>x.1</th>\n",
       "      <th>x.2</th>\n",
       "      <th>x.3</th>\n",
       "      <th>o</th>\n",
       "      <th>o.1</th>\n",
       "      <th>x.4</th>\n",
       "      <th>o.2</th>\n",
       "      <th>o.3</th>\n",
       "      <th>positive</th>\n",
       "    </tr>\n",
       "  </thead>\n",
       "  <tbody>\n",
       "    <tr>\n",
       "      <th>count</th>\n",
       "      <td>957.000000</td>\n",
       "      <td>957.000000</td>\n",
       "      <td>957.000000</td>\n",
       "      <td>957.000000</td>\n",
       "      <td>957.000000</td>\n",
       "      <td>957.000000</td>\n",
       "      <td>957.000000</td>\n",
       "      <td>957.000000</td>\n",
       "      <td>957.000000</td>\n",
       "      <td>957.000000</td>\n",
       "    </tr>\n",
       "    <tr>\n",
       "      <th>mean</th>\n",
       "      <td>1.221526</td>\n",
       "      <td>1.132706</td>\n",
       "      <td>1.221526</td>\n",
       "      <td>1.132706</td>\n",
       "      <td>1.311390</td>\n",
       "      <td>1.133751</td>\n",
       "      <td>1.221526</td>\n",
       "      <td>1.133751</td>\n",
       "      <td>1.222571</td>\n",
       "      <td>0.653083</td>\n",
       "    </tr>\n",
       "    <tr>\n",
       "      <th>std</th>\n",
       "      <td>0.775566</td>\n",
       "      <td>0.798892</td>\n",
       "      <td>0.775566</td>\n",
       "      <td>0.798892</td>\n",
       "      <td>0.741201</td>\n",
       "      <td>0.799372</td>\n",
       "      <td>0.775566</td>\n",
       "      <td>0.799372</td>\n",
       "      <td>0.775941</td>\n",
       "      <td>0.476238</td>\n",
       "    </tr>\n",
       "    <tr>\n",
       "      <th>min</th>\n",
       "      <td>0.000000</td>\n",
       "      <td>0.000000</td>\n",
       "      <td>0.000000</td>\n",
       "      <td>0.000000</td>\n",
       "      <td>0.000000</td>\n",
       "      <td>0.000000</td>\n",
       "      <td>0.000000</td>\n",
       "      <td>0.000000</td>\n",
       "      <td>0.000000</td>\n",
       "      <td>0.000000</td>\n",
       "    </tr>\n",
       "    <tr>\n",
       "      <th>25%</th>\n",
       "      <td>1.000000</td>\n",
       "      <td>0.000000</td>\n",
       "      <td>1.000000</td>\n",
       "      <td>0.000000</td>\n",
       "      <td>1.000000</td>\n",
       "      <td>0.000000</td>\n",
       "      <td>1.000000</td>\n",
       "      <td>0.000000</td>\n",
       "      <td>1.000000</td>\n",
       "      <td>0.000000</td>\n",
       "    </tr>\n",
       "    <tr>\n",
       "      <th>50%</th>\n",
       "      <td>1.000000</td>\n",
       "      <td>1.000000</td>\n",
       "      <td>1.000000</td>\n",
       "      <td>1.000000</td>\n",
       "      <td>1.000000</td>\n",
       "      <td>1.000000</td>\n",
       "      <td>1.000000</td>\n",
       "      <td>1.000000</td>\n",
       "      <td>1.000000</td>\n",
       "      <td>1.000000</td>\n",
       "    </tr>\n",
       "    <tr>\n",
       "      <th>75%</th>\n",
       "      <td>2.000000</td>\n",
       "      <td>2.000000</td>\n",
       "      <td>2.000000</td>\n",
       "      <td>2.000000</td>\n",
       "      <td>2.000000</td>\n",
       "      <td>2.000000</td>\n",
       "      <td>2.000000</td>\n",
       "      <td>2.000000</td>\n",
       "      <td>2.000000</td>\n",
       "      <td>1.000000</td>\n",
       "    </tr>\n",
       "    <tr>\n",
       "      <th>max</th>\n",
       "      <td>2.000000</td>\n",
       "      <td>2.000000</td>\n",
       "      <td>2.000000</td>\n",
       "      <td>2.000000</td>\n",
       "      <td>2.000000</td>\n",
       "      <td>2.000000</td>\n",
       "      <td>2.000000</td>\n",
       "      <td>2.000000</td>\n",
       "      <td>2.000000</td>\n",
       "      <td>1.000000</td>\n",
       "    </tr>\n",
       "  </tbody>\n",
       "</table>\n",
       "</div>"
      ],
      "text/plain": [
       "                x         x.1         x.2         x.3           o         o.1  \\\n",
       "count  957.000000  957.000000  957.000000  957.000000  957.000000  957.000000   \n",
       "mean     1.221526    1.132706    1.221526    1.132706    1.311390    1.133751   \n",
       "std      0.775566    0.798892    0.775566    0.798892    0.741201    0.799372   \n",
       "min      0.000000    0.000000    0.000000    0.000000    0.000000    0.000000   \n",
       "25%      1.000000    0.000000    1.000000    0.000000    1.000000    0.000000   \n",
       "50%      1.000000    1.000000    1.000000    1.000000    1.000000    1.000000   \n",
       "75%      2.000000    2.000000    2.000000    2.000000    2.000000    2.000000   \n",
       "max      2.000000    2.000000    2.000000    2.000000    2.000000    2.000000   \n",
       "\n",
       "              x.4         o.2         o.3    positive  \n",
       "count  957.000000  957.000000  957.000000  957.000000  \n",
       "mean     1.221526    1.133751    1.222571    0.653083  \n",
       "std      0.775566    0.799372    0.775941    0.476238  \n",
       "min      0.000000    0.000000    0.000000    0.000000  \n",
       "25%      1.000000    0.000000    1.000000    0.000000  \n",
       "50%      1.000000    1.000000    1.000000    1.000000  \n",
       "75%      2.000000    2.000000    2.000000    1.000000  \n",
       "max      2.000000    2.000000    2.000000    1.000000  "
      ]
     },
     "execution_count": 140,
     "metadata": {},
     "output_type": "execute_result"
    }
   ],
   "source": [
    "for col_name in tic_tac_toe_data.columns:\n",
    "#     print(tic_tac_toe_data[col_name].dtype)\n",
    "    if(tic_tac_toe_data[col_name].dtype == 'object'):\n",
    "        tic_tac_toe_data[col_name]= tic_tac_toe_data[col_name].astype('category')\n",
    "        tic_tac_toe_data[col_name] = tic_tac_toe_data[col_name].cat.codes\n",
    "tic_tac_toe_data.describe()\n",
    "# tic_tac_toe_data.head()"
   ]
  },
  {
   "cell_type": "code",
   "execution_count": 35,
   "id": "comprehensive-seeking",
   "metadata": {},
   "outputs": [],
   "source": [
    "# print(tic_tac_toe_data.iloc[:, np.r_[0:9]].head())\n",
    "# print(tic_tac_toe_data.iloc[:, np.r_[9:10]].tail())\n",
    "X = tic_tac_toe_data.iloc[:, np.r_[0:9]]\n",
    "y = tic_tac_toe_data.iloc[:, np.r_[9:10]]"
   ]
  },
  {
   "cell_type": "code",
   "execution_count": 163,
   "id": "boring-algebra",
   "metadata": {},
   "outputs": [],
   "source": [
    "# tic_train_set, tic_test_set = train_test_split(tic_tac_toe_data, test_size=0.2, random_state=42)\n",
    "X_train, X_test, y_train, y_test = train_test_split(X, y, test_size=.33, random_state=42)"
   ]
  },
  {
   "cell_type": "code",
   "execution_count": 185,
   "id": "turned-nudist",
   "metadata": {},
   "outputs": [
    {
     "data": {
      "text/plain": [
       "DecisionTreeClassifier(max_depth=12, random_state=42)"
      ]
     },
     "execution_count": 185,
     "metadata": {},
     "output_type": "execute_result"
    }
   ],
   "source": [
    "tree_clf = DecisionTreeClassifier(criterion='gini', max_depth=12, random_state=42)\n",
    "tree_clf.fit(X_train, y_train)"
   ]
  },
  {
   "cell_type": "code",
   "execution_count": 197,
   "id": "streaming-handy",
   "metadata": {},
   "outputs": [
    {
     "data": {
      "text/plain": [
       "array([0.78787879, 0.9375    , 0.8125    , 0.84375   , 0.84375   ,\n",
       "       0.875     , 0.78125   , 0.90625   , 0.84375   , 0.8125    ,\n",
       "       0.90625   , 0.875     , 0.84375   , 0.875     , 0.875     ,\n",
       "       0.875     , 0.90625   , 1.        , 0.875     , 0.78125   ])"
      ]
     },
     "execution_count": 197,
     "metadata": {},
     "output_type": "execute_result"
    }
   ],
   "source": [
    "cross_val_score(tree_clf, X_train, y_train, cv=20)"
   ]
  },
  {
   "cell_type": "code",
   "execution_count": 201,
   "id": "tropical-concern",
   "metadata": {},
   "outputs": [
    {
     "name": "stdout",
     "output_type": "stream",
     "text": [
      "1.0\n",
      "0.8417721518987342\n"
     ]
    },
    {
     "data": {
      "text/plain": [
       "12"
      ]
     },
     "execution_count": 201,
     "metadata": {},
     "output_type": "execute_result"
    }
   ],
   "source": [
    "train_accuracy = accuracy_score(y_train, tree_clf.predict(X_train))\n",
    "test_accuracy = accuracy_score(y_test, tree_clf.predict(X_test))\n",
    "# train_precision = precision_score(y_train, tree_clf.predict(X_train))\n",
    "# test_precision = precision_score(y_test, tree_clf.predict(X_test))\n",
    "print(train_accuracy)\n",
    "print(test_accuracy)\n",
    "tree_clf.get_depth()\n",
    "# print(train_precision, test_precision)"
   ]
  },
  {
   "cell_type": "code",
   "execution_count": 199,
   "id": "athletic-excuse",
   "metadata": {},
   "outputs": [],
   "source": [
    "train_sizes, train_scores, test_scores = learning_curve(tree_clf, X_train, y_train, cv=20, random_state=42)\n"
   ]
  },
  {
   "cell_type": "code",
   "execution_count": 204,
   "id": "impossible-astronomy",
   "metadata": {},
   "outputs": [
    {
     "data": {
      "image/png": "[encoded data removed]",
      "text/plain": [
       "<Figure size 432x288 with 1 Axes>"
      ]
     },
     "metadata": {
      "needs_background": "light"
     },
     "output_type": "display_data"
    }
   ],
   "source": [
    "train_scores_mean = np.mean(train_scores, axis=1)\n",
    "train_scores_std = np.std(train_scores, axis=1)\n",
    "test_scores_mean = np.mean(test_scores, axis=1)\n",
    "test_scores_std = np.std(test_scores, axis=1)\n",
    "\n",
    "plt.figure()\n",
    "plt.fill_between(train_sizes, train_scores_mean - train_scores_std,\n",
    "                         train_scores_mean + train_scores_std, alpha=0.1,\n",
    "                         color=\"r\")\n",
    "plt.fill_between(train_sizes, test_scores_mean - test_scores_std,\n",
    "                         test_scores_mean + test_scores_std, alpha=0.1,\n",
    "                         color=\"g\")\n",
    "plt.plot(train_sizes, train_scores_mean, 'o-', color=\"r\",\n",
    "                 label=\"Training score\")\n",
    "plt.plot(train_sizes, test_scores_mean, 'o-', color=\"g\",\n",
    "                 label=\"Cross-validation score\")\n",
    "plt.xlabel(\"Training examples\")\n",
    "plt.ylabel(\"Score\")\n",
    "plt.legend(loc=\"best\")\n",
    "plt.show()"
   ]
  },
  {
   "cell_type": "code",
   "execution_count": 217,
   "id": "second-publicity",
   "metadata": {},
   "outputs": [
    {
     "data": {
      "text/plain": [
       "[<matplotlib.lines.Line2D at 0x1d649bf8760>]"
      ]
     },
     "execution_count": 217,
     "metadata": {},
     "output_type": "execute_result"
    },
    {
     "data": {
      "image/png": "[encoded data removed]",
      "text/plain": [
       "<Figure size 432x288 with 1 Axes>"
      ]
     },
     "metadata": {
      "needs_background": "light"
     },
     "output_type": "display_data"
    }
   ],
   "source": [
    "lw = 2\n",
    "max_depth_range = range(1,20)\n",
    "train_scores, test_scores = validation_curve(DecisionTreeClassifier(), X_train, y_train, param_name=\"max_depth\", param_range=max_depth_range, scoring=\"accuracy\", cv=20)\n",
    "train_scores_mean = np.mean(train_scores, axis=1)\n",
    "train_scores_std = np.std(train_scores, axis=1)\n",
    "test_scores_mean = np.mean(test_scores, axis=1)\n",
    "test_scores_std = np.std(test_scores, axis=1)\n",
    "plt.figure()\n",
    "plt.plot(max_depth_range, train_scores_mean, 'o-', label=\"Training score\", color=\"r\", lw=lw)\n",
    "plt.plot(max_depth_range, test_scores_mean, 'o-', label=\"Cross-validation score\", color=\"g\", lw=lw)"
   ]
  },
  {
   "cell_type": "code",
   "execution_count": 216,
   "id": "nominated-gates",
   "metadata": {},
   "outputs": [
    {
     "data": {
      "text/plain": [
       "[<matplotlib.lines.Line2D at 0x1d649cd2c10>]"
      ]
     },
     "execution_count": 216,
     "metadata": {},
     "output_type": "execute_result"
    },
    {
     "data": {
      "image/png": "[encoded data removed]",
      "text/plain": [
       "<Figure size 432x288 with 1 Axes>"
      ]
     },
     "metadata": {
      "needs_background": "light"
     },
     "output_type": "display_data"
    }
   ],
   "source": [
    "lw = 2\n",
    "min_samples_split_range = range(2,20)\n",
    "train_scores, test_scores = validation_curve(DecisionTreeClassifier(), X_train, y_train, param_name=\"min_samples_split\", param_range=min_samples_split_range, scoring=\"accuracy\")\n",
    "train_scores_mean = np.mean(train_scores, axis=1)\n",
    "train_scores_std = np.std(train_scores, axis=1)\n",
    "test_scores_mean = np.mean(test_scores, axis=1)\n",
    "test_scores_std = np.std(test_scores, axis=1)\n",
    "plt.figure()\n",
    "plt.plot(min_samples_split_range, train_scores_mean, 'o-', label=\"Training score\", color=\"r\", lw=lw)\n",
    "plt.plot(min_samples_split_range, test_scores_mean, 'o-', label=\"Cross-validation score\", color=\"g\", lw=lw)"
   ]
  }
 ],
 "metadata": {
  "kernelspec": {
   "display_name": "Python 3",
   "language": "python",
   "name": "python3"
  },
  "language_info": {
   "codemirror_mode": {
    "name": "ipython",
    "version": 3
   },
   "file_extension": ".py",
   "mimetype": "text/x-python",
   "name": "python",
   "nbconvert_exporter": "python",
   "pygments_lexer": "ipython3",
   "version": "3.8.5"
  }
 },
 "nbformat": 4,
 "nbformat_minor": 5
}
